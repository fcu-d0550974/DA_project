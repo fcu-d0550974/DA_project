{
 "cells": [
  {
   "cell_type": "code",
   "execution_count": 34,
   "metadata": {},
   "outputs": [],
   "source": [
    "import requests\n",
    "import json\n",
    "import csv\n",
    "import re\n",
    "import pandas as pd\n",
    "import numpy as np\n",
    "import urllib.request as req\n",
    "from selenium import webdriver\n",
    "from selenium.webdriver.chrome.options import Options\n",
    "from selenium.webdriver.support.select import Select\n",
    "from bs4 import BeautifulSoup\n",
    "import datetime\n",
    "import time\n",
    "import pandas"
   ]
  },
  {
   "cell_type": "code",
   "execution_count": 40,
   "metadata": {},
   "outputs": [
    {
     "name": "stderr",
     "output_type": "stream",
     "text": [
      "<ipython-input-40-b6cd688fbf44>:4: DeprecationWarning: use options instead of chrome_options\n",
      "  chrome = webdriver.Chrome('./chromedriver', chrome_options=options)\n"
     ]
    }
   ],
   "source": [
    "options = Options()\n",
    "options.add_argument(\"--disable-notifications\")\n",
    "\n",
    "chrome = webdriver.Chrome('./chromedriver', chrome_options=options)\n",
    "\n",
    "url = 'https://www.ris.gov.tw/info-doorplate/app/doorplate/main?retrievalPath=%2Fdoorplate%2F'\n",
    "\n",
    "chrome.get(url)\n",
    "\n",
    "soup = BeautifulSoup(chrome.page_source, \"html.parser\")\n",
    "\n",
    "time.sleep(2)\n",
    "\n",
    "button_p1 = chrome.find_element_by_class_name('btn.btn-info.btn-block.ps-classification')\n",
    "button_p1.click()\n",
    "\n",
    "select_county = chrome.find_element_by_xpath('//*[@id=\"mapForm\"]/div/fieldset/div[3]/map/area[2]')\n",
    "select_county.click()\n",
    "\n",
    "time.sleep(2)\n",
    "\n",
    "select = Select(chrome.find_element_by_name('areaCode'))\n",
    "select.select_by_index(1)\n",
    "\n",
    "old_day = chrome.find_element_by_id('sDate')\n",
    "old_day.click()\n",
    "\n",
    "old_month = Select(chrome.find_element_by_class_name('ui-datepicker-month.form-control.inline.min-control.yyymmdd'))\n",
    "old_month.select_by_index(0)\n",
    "# old_year = Select(chrome.find_element_by_class_name('ui-datepicker-year.form-control.inline.min-control.yyymmdd'))\n",
    "# old_year.select_by_index(-1)\n",
    "time.sleep(1)\n",
    "\n",
    "old_date = chrome.find_element_by_class_name('ui-state-default')\n",
    "old_date.click()\n",
    "\n",
    "\n",
    "# now = datetime.datetime.now()\n"
   ]
  }
 ],
 "metadata": {
  "kernelspec": {
   "display_name": "Python 3",
   "language": "python",
   "name": "python3"
  },
  "language_info": {
   "codemirror_mode": {
    "name": "ipython",
    "version": 3
   },
   "file_extension": ".py",
   "mimetype": "text/x-python",
   "name": "python",
   "nbconvert_exporter": "python",
   "pygments_lexer": "ipython3",
   "version": "3.8.5"
  }
 },
 "nbformat": 4,
 "nbformat_minor": 4
}
